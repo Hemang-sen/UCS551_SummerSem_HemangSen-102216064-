{
  "nbformat": 4,
  "nbformat_minor": 0,
  "metadata": {
    "colab": {
      "provenance": [],
      "gpuType": "T4",
      "mount_file_id": "1T37TKUJfHtT2GMZOTLITNoea0fsPJyo-",
      "authorship_tag": "ABX9TyMYxoeol/fa37yX2/7P+gvt",
      "include_colab_link": true
    },
    "kernelspec": {
      "name": "python3",
      "display_name": "Python 3"
    },
    "language_info": {
      "name": "python"
    },
    "accelerator": "GPU"
  },
  "cells": [
    {
      "cell_type": "markdown",
      "metadata": {
        "id": "view-in-github",
        "colab_type": "text"
      },
      "source": [
        "<a href=\"https://colab.research.google.com/github/Hemang-sen/UCS551_SummerSem_HemangSen-102216064-/blob/main/ASSIGNMENT3.ipynb\" target=\"_parent\"><img src=\"https://colab.research.google.com/assets/colab-badge.svg\" alt=\"Open In Colab\"/></a>"
      ]
    },
    {
      "cell_type": "code",
      "execution_count": 1,
      "metadata": {
        "id": "BNOBJGpAO5IV"
      },
      "outputs": [],
      "source": [
        "file_path = \"/content/drive/MyDrive/price_paid_records.csv\""
      ]
    },
    {
      "cell_type": "markdown",
      "source": [
        "### QUESTION 1"
      ],
      "metadata": {
        "id": "93FqSY_qRnvg"
      }
    },
    {
      "cell_type": "code",
      "source": [
        "import pandas as pd\n",
        "import cudf\n",
        "import time\n",
        "import numpy as np\n",
        "start_time = time.time()\n",
        "pdf = pd.read_csv(file_path)\n",
        "pandas_load_time = time.time() - start_time\n",
        "print(f\"Pandas load time: {pandas_load_time:.4f} seconds\")\n",
        "\n",
        "start_time = time.time()\n",
        "gdf = cudf.read_csv(file_path)\n",
        "cudf_load_time = time.time() - start_time\n",
        "print(f\"cuDF load time: {cudf_load_time:.4f} seconds\")"
      ],
      "metadata": {
        "colab": {
          "base_uri": "https://localhost:8080/"
        },
        "id": "6EbRBWNgRlW8",
        "outputId": "65a424a0-6978-403d-ae6e-8c38f88188d7"
      },
      "execution_count": 2,
      "outputs": [
        {
          "output_type": "stream",
          "name": "stdout",
          "text": [
            "Pandas load time: 68.1578 seconds\n",
            "cuDF load time: 14.7472 seconds\n"
          ]
        }
      ]
    },
    {
      "cell_type": "code",
      "source": [
        "start_time = time.time()\n",
        "print(\"Pandas .info():\")\n",
        "pdf.info()\n",
        "print(\"\\nPandas .describe():\")\n",
        "print(pdf.describe())\n",
        "pandas_info_desc_time = time.time() - start_time\n",
        "print(f\"Pandas .info() + .describe(): {pandas_info_desc_time:.4f} seconds\")\n",
        "\n",
        "\n",
        "start_time = time.time()\n",
        "print(\"\\ncuDF .info():\")\n",
        "gdf.info()\n",
        "print(\"\\ncuDF .describe():\")\n",
        "print(gdf.describe())\n",
        "cudf_info_desc_time = time.time() - start_time\n",
        "print(f\"cuDF .info() + .describe(): {cudf_info_desc_time:.4f} seconds\")"
      ],
      "metadata": {
        "colab": {
          "base_uri": "https://localhost:8080/"
        },
        "id": "o3OIOvxpR1TK",
        "outputId": "09850cbf-1501-4737-c51b-1828b72e5b10"
      },
      "execution_count": 3,
      "outputs": [
        {
          "output_type": "stream",
          "name": "stdout",
          "text": [
            "Pandas .info():\n",
            "<class 'pandas.core.frame.DataFrame'>\n",
            "RangeIndex: 22489348 entries, 0 to 22489347\n",
            "Data columns (total 11 columns):\n",
            " #   Column                             Dtype \n",
            "---  ------                             ----- \n",
            " 0   Transaction unique identifier      object\n",
            " 1   Price                              int64 \n",
            " 2   Date of Transfer                   object\n",
            " 3   Property Type                      object\n",
            " 4   Old/New                            object\n",
            " 5   Duration                           object\n",
            " 6   Town/City                          object\n",
            " 7   District                           object\n",
            " 8   County                             object\n",
            " 9   PPDCategory Type                   object\n",
            " 10  Record Status - monthly file only  object\n",
            "dtypes: int64(1), object(10)\n",
            "memory usage: 1.8+ GB\n",
            "\n",
            "Pandas .describe():\n",
            "              Price\n",
            "count  2.248935e+07\n",
            "mean   1.782442e+05\n",
            "std    3.903677e+05\n",
            "min    1.000000e+00\n",
            "25%    7.500000e+04\n",
            "50%    1.300000e+05\n",
            "75%    2.100000e+05\n",
            "max    9.890000e+07\n",
            "Pandas .info() + .describe(): 1.0116 seconds\n",
            "\n",
            "cuDF .info():\n",
            "<class 'cudf.core.dataframe.DataFrame'>\n",
            "RangeIndex: 22489348 entries, 0 to 22489347\n",
            "Data columns (total 11 columns):\n",
            " #   Column                             Dtype\n",
            "---  ------                             -----\n",
            " 0   Transaction unique identifier      object\n",
            " 1   Price                              int64\n",
            " 2   Date of Transfer                   object\n",
            " 3   Property Type                      object\n",
            " 4   Old/New                            object\n",
            " 5   Duration                           object\n",
            " 6   Town/City                          object\n",
            " 7   District                           object\n",
            " 8   County                             object\n",
            " 9   PPDCategory Type                   object\n",
            " 10  Record Status - monthly file only  object\n",
            "dtypes: int64(1), object(10)\n",
            "memory usage: 2.9+ GB\n",
            "\n",
            "cuDF .describe():\n",
            "              Price\n",
            "count  2.248935e+07\n",
            "mean   1.782442e+05\n",
            "std    3.903677e+05\n",
            "min    1.000000e+00\n",
            "25%    7.500000e+04\n",
            "50%    1.300000e+05\n",
            "75%    2.100000e+05\n",
            "max    9.890000e+07\n",
            "cuDF .info() + .describe(): 0.6313 seconds\n"
          ]
        }
      ]
    },
    {
      "cell_type": "code",
      "source": [
        "start_time = time.time()\n",
        "pdf_cleaned = pdf.dropna()\n",
        "pandas_dropna_time = time.time() - start_time\n",
        "print(f\"Pandas dropna: {pandas_dropna_time:.4f} seconds\")\n",
        "\n",
        "\n",
        "start_time = time.time()\n",
        "gdf_cleaned = gdf.dropna()\n",
        "cudf_dropna_time = time.time() - start_time\n",
        "print(f\"cuDF dropna: {cudf_dropna_time:.4f} seconds\")"
      ],
      "metadata": {
        "colab": {
          "base_uri": "https://localhost:8080/"
        },
        "id": "JrKRr9K3R8xC",
        "outputId": "33abae44-dca4-4628-9302-3c4e801ea13e"
      },
      "execution_count": 4,
      "outputs": [
        {
          "output_type": "stream",
          "name": "stdout",
          "text": [
            "Pandas dropna: 12.6697 seconds\n",
            "cuDF dropna: 0.0418 seconds\n"
          ]
        }
      ]
    },
    {
      "cell_type": "code",
      "source": [
        "pdf_cleaned.columns = pdf_cleaned.columns.str.strip()\n",
        "gdf_cleaned.columns = gdf_cleaned.columns.str.strip()\n",
        "\n",
        "print(\"Pandas Columns:\\n\", pdf_cleaned.columns.tolist())\n",
        "print(\"cuDF Columns:\\n\", gdf_cleaned.columns.tolist())"
      ],
      "metadata": {
        "colab": {
          "base_uri": "https://localhost:8080/"
        },
        "id": "8HWSOLHdSAOR",
        "outputId": "fa1d6bcd-b5d1-49f0-86a0-2c92a2a2d9f2"
      },
      "execution_count": 5,
      "outputs": [
        {
          "output_type": "stream",
          "name": "stdout",
          "text": [
            "Pandas Columns:\n",
            " ['Transaction unique identifier', 'Price', 'Date of Transfer', 'Property Type', 'Old/New', 'Duration', 'Town/City', 'District', 'County', 'PPDCategory Type', 'Record Status - monthly file only']\n",
            "cuDF Columns:\n",
            " ['Transaction unique identifier', 'Price', 'Date of Transfer', 'Property Type', 'Old/New', 'Duration', 'Town/City', 'District', 'County', 'PPDCategory Type', 'Record Status - monthly file only']\n"
          ]
        }
      ]
    },
    {
      "cell_type": "code",
      "source": [
        "pdf_cleaned.columns = pdf_cleaned.columns.str.strip()\n",
        "gdf_cleaned.columns = gdf_cleaned.columns.str.strip()\n",
        "\n",
        "print(\"📌 Columns in pandas DataFrame:\")\n",
        "print(pdf_cleaned.columns.tolist())"
      ],
      "metadata": {
        "colab": {
          "base_uri": "https://localhost:8080/"
        },
        "id": "dDHkTl2uSDDZ",
        "outputId": "40d4fec9-a2e0-43e6-df9b-71e93f9e18b5"
      },
      "execution_count": 7,
      "outputs": [
        {
          "output_type": "stream",
          "name": "stdout",
          "text": [
            "📌 Columns in pandas DataFrame:\n",
            "['Transaction unique identifier', 'Price', 'Date of Transfer', 'Property Type', 'Old/New', 'Duration', 'Town/City', 'District', 'County', 'PPDCategory Type', 'Record Status - monthly file only']\n"
          ]
        }
      ]
    },
    {
      "cell_type": "code",
      "source": [
        "import numpy as np\n",
        "import cupy as cp\n",
        "import time\n",
        "\n",
        "pdf_cleaned.columns = pdf_cleaned.columns.str.strip()\n",
        "gdf_cleaned.columns = gdf_cleaned.columns.str.strip()\n",
        "\n",
        "start_time = time.time()\n",
        "pdf_cleaned['log_price'] = np.log(pdf_cleaned['Price'])\n",
        "pandas_log_time = time.time() - start_time\n",
        "print(f\"Pandas log(Price): {pandas_log_time:.4f} seconds\")\n",
        "\n",
        "start_time = time.time()\n",
        "gdf_cleaned['log_price'] = cp.log(gdf_cleaned['Price'].to_cupy())\n",
        "cudf_log_time = time.time() - start_time\n",
        "print(f\"cuDF log(Price): {cudf_log_time:.4f} seconds\")\n",
        "print(pdf_cleaned.columns.tolist())"
      ],
      "metadata": {
        "colab": {
          "base_uri": "https://localhost:8080/"
        },
        "id": "AuKexVs0STQb",
        "outputId": "00b4a6bf-a8e5-4315-8086-2d9d8eef89c3"
      },
      "execution_count": 9,
      "outputs": [
        {
          "output_type": "stream",
          "name": "stdout",
          "text": [
            "Pandas log(Price): 0.2817 seconds\n",
            "cuDF log(Price): 0.0219 seconds\n",
            "['Transaction unique identifier', 'Price', 'Date of Transfer', 'Property Type', 'Old/New', 'Duration', 'Town/City', 'District', 'County', 'PPDCategory Type', 'Record Status - monthly file only', 'log_price']\n"
          ]
        }
      ]
    },
    {
      "cell_type": "code",
      "source": [
        "from datetime import datetime, timedelta\n",
        "date_column = 'Date of Transfer'\n",
        "cutoff_date = datetime.now() - timedelta(days=5*365)\n",
        "gdf_cleaned = gdf_cleaned.dropna(subset=[date_column])\n",
        "gdf_cleaned[date_column] = cudf.to_datetime(gdf_cleaned[date_column])\n",
        "start_time = time.time()\n",
        "gdf_recent = gdf_cleaned[gdf_cleaned[date_column] >= cutoff_date]\n",
        "cudf_filter_time = time.time() - start_time\n",
        "print(f\"cuDF filter (last 5 years): {cudf_filter_time:.4f} seconds\")"
      ],
      "metadata": {
        "colab": {
          "base_uri": "https://localhost:8080/"
        },
        "id": "axI1Jpc-STWx",
        "outputId": "6b700c8e-3015-4b9b-c098-741810e08507"
      },
      "execution_count": 12,
      "outputs": [
        {
          "output_type": "stream",
          "name": "stdout",
          "text": [
            "cuDF filter (last 5 years): 0.0302 seconds\n"
          ]
        }
      ]
    },
    {
      "cell_type": "code",
      "source": [
        "gdf_cleaned = gdf_cleaned.dropna(subset=[date_column])\n",
        "gdf_cleaned[date_column] = cudf.to_datetime(gdf_cleaned[date_column])\n",
        "start_time = time.time()\n",
        "gdf_recent = gdf_cleaned[gdf_cleaned[date_column] >= cutoff_date]\n",
        "cudf_filter_time = time.time() - start_time\n",
        "print(f\"cuDF filter (last 5 years): {cudf_filter_time:.4f} seconds\")"
      ],
      "metadata": {
        "colab": {
          "base_uri": "https://localhost:8080/"
        },
        "id": "NP0NW1JuTRJi",
        "outputId": "cd3b5734-2938-4682-c32f-8bae8f4e131c"
      },
      "execution_count": 13,
      "outputs": [
        {
          "output_type": "stream",
          "name": "stdout",
          "text": [
            "cuDF filter (last 5 years): 0.0042 seconds\n"
          ]
        }
      ]
    },
    {
      "cell_type": "markdown",
      "source": [
        "### QUESTION 2"
      ],
      "metadata": {
        "id": "TSfOUrSOTZmI"
      }
    },
    {
      "cell_type": "code",
      "source": [
        "import pandas as pd\n",
        "import numpy as np\n",
        "import time\n",
        "pdf.columns = pdf.columns.str.strip()\n",
        "pdf_cleaned = pdf.dropna()\n",
        "pdf_cleaned['Price'] = pdf_cleaned['Price'].astype(float)  # Ensure numeric\n",
        "pdf_cleaned['log_price'] = np.log(pdf_cleaned['Price'])"
      ],
      "metadata": {
        "id": "wclSWCo6Tbho"
      },
      "execution_count": 14,
      "outputs": []
    },
    {
      "cell_type": "code",
      "source": [
        "print(pdf_cleaned.columns.tolist())\n",
        "from sklearn.preprocessing import LabelEncoder\n",
        "\n",
        "categorical_cols = ['Property Type', 'Town/City', 'County']\n",
        "label_encoders = {}\n",
        "\n",
        "for col in categorical_cols:\n",
        "    pdf_cleaned[col] = pdf_cleaned[col].astype(str).str.strip()\n",
        "    le = LabelEncoder()\n",
        "    pdf_cleaned[col] = le.fit_transform(pdf_cleaned[col])\n",
        "    label_encoders[col] = le"
      ],
      "metadata": {
        "colab": {
          "base_uri": "https://localhost:8080/"
        },
        "id": "EK3xzcpYTrc_",
        "outputId": "3b4433fd-8b9c-47c1-a77f-d43af1e2be61"
      },
      "execution_count": 15,
      "outputs": [
        {
          "output_type": "stream",
          "name": "stdout",
          "text": [
            "['Transaction unique identifier', 'Price', 'Date of Transfer', 'Property Type', 'Old/New', 'Duration', 'Town/City', 'District', 'County', 'PPDCategory Type', 'Record Status - monthly file only', 'log_price']\n"
          ]
        }
      ]
    },
    {
      "cell_type": "code",
      "source": [
        "median_price = pdf_cleaned['Price'].median()\n",
        "pdf_cleaned['price_category'] = (pdf_cleaned['Price'] > median_price).astype(int)"
      ],
      "metadata": {
        "id": "aVZJ9Uy0Tv45"
      },
      "execution_count": 16,
      "outputs": []
    },
    {
      "cell_type": "code",
      "source": [
        "from sklearn.model_selection import train_test_split\n",
        "features = ['Property Type', 'Town/City', 'County', 'log_price']\n",
        "X = pdf_cleaned[features]\n",
        "y = pdf_cleaned['price_category']\n",
        "X_train, X_test, y_train, y_test = train_test_split(\n",
        "    X, y, test_size=0.2, random_state=42\n",
        ")"
      ],
      "metadata": {
        "id": "9o2pdFXaTy4h"
      },
      "execution_count": 17,
      "outputs": []
    },
    {
      "cell_type": "code",
      "source": [
        "sampled_df = pdf_cleaned.sample(n=50000, random_state=42)\n",
        "features = ['Property Type', 'Town/City', 'County', 'log_price']\n",
        "X = sampled_df[features]\n",
        "y = sampled_df['price_category']"
      ],
      "metadata": {
        "id": "lA_uA_dgT5lX"
      },
      "execution_count": 18,
      "outputs": []
    },
    {
      "cell_type": "code",
      "source": [
        "from sklearn.model_selection import train_test_split\n",
        "features = ['Property Type', 'Town/City', 'County', 'log_price']\n",
        "X = sampled_df[features]\n",
        "y = sampled_df['price_category']\n",
        "X_train, X_test, y_train, y_test = train_test_split(\n",
        "    X, y, test_size=0.2, random_state=42\n",
        ")"
      ],
      "metadata": {
        "id": "m3Vi0WpST-6f"
      },
      "execution_count": 19,
      "outputs": []
    },
    {
      "cell_type": "code",
      "source": [
        "from sklearn.ensemble import RandomForestClassifier\n",
        "from sklearn.metrics import accuracy_score, f1_score\n",
        "import time\n",
        "start_time = time.time()\n",
        "rf_sklearn = RandomForestClassifier(n_estimators=20, max_depth=10, random_state=42)\n",
        "rf_sklearn.fit(X_train, y_train)\n",
        "sklearn_train_time = time.time() - start_time\n",
        "start_time = time.time()\n",
        "y_pred_sklearn = rf_sklearn.predict(X_test)\n",
        "sklearn_predict_time = time.time() - start_time\n",
        "sklearn_acc = accuracy_score(y_test, y_pred_sklearn)\n",
        "sklearn_f1 = f1_score(y_test, y_pred_sklearn)\n",
        "print(\"Scikit completed\")"
      ],
      "metadata": {
        "colab": {
          "base_uri": "https://localhost:8080/"
        },
        "id": "UZX7nTuNUD1_",
        "outputId": "7d0d8255-bc29-4810-d69e-d128a8c74592"
      },
      "execution_count": 20,
      "outputs": [
        {
          "output_type": "stream",
          "name": "stdout",
          "text": [
            "Scikit completed\n"
          ]
        }
      ]
    },
    {
      "cell_type": "code",
      "metadata": {
        "colab": {
          "base_uri": "https://localhost:8080/"
        },
        "id": "63b78dd4",
        "outputId": "db930412-6498-42ae-97a9-069fa99eca97"
      },
      "source": [
        "from cuml.model_selection import train_test_split as cu_train_test_split\n",
        "from cuml.ensemble import RandomForestClassifier as cuRF\n",
        "import cudf\n",
        "from sklearn.metrics import accuracy_score, f1_score\n",
        "import time\n",
        "if not isinstance(sampled_df, cudf.DataFrame):\n",
        "    gdf = cudf.from_pandas(sampled_df)\n",
        "else:\n",
        "    gdf = sampled_df\n",
        "\n",
        "features = ['Property Type', 'Town/City', 'County', 'log_price']\n",
        "X_cu = gdf[features]\n",
        "y_cu = gdf['price_category']\n",
        "X_train_cu, X_test_cu, y_train_cu, y_test_cu = cu_train_test_split(\n",
        "    X_cu, y_cu, test_size=0.2, random_state=42)\n",
        "start_time = time.time()\n",
        "rf_cuml = cuRF(n_estimators=20, max_depth=10, random_state=42)\n",
        "rf_cuml.fit(X_train_cu, y_train_cu)\n",
        "cuml_train_time = time.time() - start_time\n",
        "print(f\"cuML training time: {cuml_train_time:.4f} seconds\")\n",
        "start_time = time.time()\n",
        "y_pred_cuml = rf_cuml.predict(X_test_cu)\n",
        "cuml_predict_time = time.time() - start_time\n",
        "print(f\"cuML prediction time: {cuml_predict_time:.4f} seconds\")\n",
        "cuml_acc = accuracy_score(y_test_cu.to_numpy(), y_pred_cuml.to_numpy())\n",
        "cuml_f1 = f1_score(y_test_cu.to_numpy(), y_pred_cuml.to_numpy())\n",
        "print(\"\\ncuML completed\")\n",
        "print(f\"cuML Accuracy: {cuml_acc:.4f}\")\n",
        "print(f\"cuML F1 Score: {cuml_f1:.4f}\")\n",
        "\n",
        "print(\"\\nComparison:\")\n",
        "print(f\"Scikit-learn Training Time: {sklearn_train_time:.4f} seconds\")\n",
        "print(f\"cuML Training Time: {cuml_train_time:.4f} seconds\")\n",
        "print(f\"Scikit-learn Prediction Time: {sklearn_predict_time:.4f} seconds\")\n",
        "print(f\"cuML Prediction Time: {cuml_predict_time:.4f} seconds\")\n",
        "print(f\"Scikit-learn Accuracy: {sklearn_acc:.4f}\")\n",
        "print(f\"cuML Accuracy: {cuml_acc:.4f}\")\n",
        "print(f\"Scikit-learn F1 Score: {sklearn_f1:.4f}\")\n",
        "print(f\"cuML F1 Score: {cuml_f1:.4f}\")"
      ],
      "execution_count": 22,
      "outputs": [
        {
          "output_type": "stream",
          "name": "stderr",
          "text": [
            "/usr/local/lib/python3.11/dist-packages/cuml/internals/api_decorators.py:368: UserWarning: For reproducible results in Random Forest Classifier or for almost reproducible results in Random Forest Regressor, n_streams=1 is recommended. If n_streams is > 1, results may vary due to stream/thread timing differences, even when random_state is set\n",
            "  return init_func(self, *args, **kwargs)\n"
          ]
        },
        {
          "output_type": "stream",
          "name": "stdout",
          "text": [
            "cuML training time: 2.7424 seconds\n",
            "cuML prediction time: 0.2353 seconds\n",
            "\n",
            "cuML completed\n",
            "cuML Accuracy: 1.0000\n",
            "cuML F1 Score: 1.0000\n",
            "\n",
            "Comparison:\n",
            "Scikit-learn Training Time: 0.2141 seconds\n",
            "cuML Training Time: 2.7424 seconds\n",
            "Scikit-learn Prediction Time: 0.0179 seconds\n",
            "cuML Prediction Time: 0.2353 seconds\n",
            "Scikit-learn Accuracy: 1.0000\n",
            "cuML Accuracy: 1.0000\n",
            "Scikit-learn F1 Score: 1.0000\n",
            "cuML F1 Score: 1.0000\n"
          ]
        }
      ]
    },
    {
      "cell_type": "code",
      "source": [],
      "metadata": {
        "id": "u7MWFR6rUzR_"
      },
      "execution_count": null,
      "outputs": []
    },
    {
      "cell_type": "markdown",
      "source": [
        "### QUESTION 3"
      ],
      "metadata": {
        "id": "CCnnXIozU2Ku"
      }
    },
    {
      "cell_type": "code",
      "source": [
        "pdf.columns = pdf.columns.str.strip()\n",
        "pdf_cleaned = pdf.dropna()\n",
        "pdf_cleaned['Price'] = pdf_cleaned['Price'].astype(float)\n",
        "pdf_cleaned['log_price'] = np.log(pdf_cleaned['Price'])"
      ],
      "metadata": {
        "id": "YShnB0_bU4VP"
      },
      "execution_count": 23,
      "outputs": []
    },
    {
      "cell_type": "code",
      "source": [
        "from itertools import combinations\n",
        "sampled_df = pdf_cleaned.sample(n=50000, random_state=42)\n",
        "df = sampled_df.copy()\n",
        "df['postcode'] = df['Transaction unique identifier'].str.extract(r'([A-Z]{1,2}\\d{1,2})', expand=False)\n",
        "print(df.columns)\n",
        "print(df[['Transaction unique identifier', 'postcode']].head())\n",
        "def generate_edges(group_col):\n",
        "    edges = []\n",
        "    for _, group in df.groupby(group_col):\n",
        "        postcodes = group['postcode'].unique()\n",
        "        edges.extend(combinations(postcodes, 2))\n",
        "    return edges\n",
        "town_edges = generate_edges('Town/City')\n",
        "county_edges = generate_edges('County')\n",
        "all_edges = set(town_edges + county_edges)\n",
        "edges_df = pd.DataFrame(list(all_edges), columns=['src', 'dst'])"
      ],
      "metadata": {
        "colab": {
          "base_uri": "https://localhost:8080/"
        },
        "id": "aEtXZArgU_43",
        "outputId": "492f34a7-0e10-4f68-cda6-119bffbfa409"
      },
      "execution_count": 24,
      "outputs": [
        {
          "output_type": "stream",
          "name": "stdout",
          "text": [
            "Index(['Transaction unique identifier', 'Price', 'Date of Transfer',\n",
            "       'Property Type', 'Old/New', 'Duration', 'Town/City', 'District',\n",
            "       'County', 'PPDCategory Type', 'Record Status - monthly file only',\n",
            "       'log_price', 'postcode'],\n",
            "      dtype='object')\n",
            "                   Transaction unique identifier postcode\n",
            "13893637  {6146E264-E0D9-4C53-ACC8-48DB3954F80B}      E26\n",
            "18522801  {26EBD75A-D90F-411C-85E5-4D56F0F66484}     BD75\n",
            "7259339   {E700C723-9426-4924-8D3F-1730EC3B2BCC}      E70\n",
            "2129082   {677E0E46-8E8F-4560-AD93-07F72D5AE6D5}       E0\n",
            "3112615   {E2387F76-24EC-4A7E-8A27-220E500F0DC2}      E23\n"
          ]
        }
      ]
    }
  ]
}