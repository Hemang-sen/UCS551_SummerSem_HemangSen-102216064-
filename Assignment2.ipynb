{
  "nbformat": 4,
  "nbformat_minor": 0,
  "metadata": {
    "colab": {
      "provenance": [],
      "authorship_tag": "ABX9TyOIN5z2NT9sh3I42Gtt5HZP",
      "include_colab_link": true
    },
    "kernelspec": {
      "name": "python3",
      "display_name": "Python 3"
    },
    "language_info": {
      "name": "python"
    }
  },
  "cells": [
    {
      "cell_type": "markdown",
      "metadata": {
        "id": "view-in-github",
        "colab_type": "text"
      },
      "source": [
        "<a href=\"https://colab.research.google.com/github/Hemang-sen/UCS551_SummerSem_HemangSen-102216064-/blob/main/Assignment2.ipynb\" target=\"_parent\"><img src=\"https://colab.research.google.com/assets/colab-badge.svg\" alt=\"Open In Colab\"/></a>"
      ]
    },
    {
      "cell_type": "markdown",
      "source": [
        "## ASSIGNMENT 2"
      ],
      "metadata": {
        "id": "hDTejBwQXN_B"
      }
    },
    {
      "cell_type": "markdown",
      "source": [
        "# Q1"
      ],
      "metadata": {
        "id": "nIOus1VfXSPk"
      }
    },
    {
      "cell_type": "code",
      "execution_count": 1,
      "metadata": {
        "id": "PwcTZKmKXKfa"
      },
      "outputs": [],
      "source": [
        "import requests\n",
        "from bs4 import BeautifulSoup\n",
        "import csv"
      ]
    },
    {
      "cell_type": "code",
      "source": [
        "\n",
        "url = \"https://books.toscrape.com/\"\n",
        "response = requests.get(url)\n",
        "soup = BeautifulSoup(response.text, 'html.parser')\n",
        "books = soup.find_all('article', class_='product_pod')\n",
        "book_data = []"
      ],
      "metadata": {
        "id": "-gJf2nFcXYMk"
      },
      "execution_count": 5,
      "outputs": []
    },
    {
      "cell_type": "code",
      "source": [
        "\n",
        "for book in books[:10]:\n",
        "    title = book.h3.a['title']\n",
        "    price = book.find('p', class_='price_color').text\n",
        "    book_data.append([title, price])\n",
        "    print(f\"Title: {title}, Price: {price}\")\n",
        "csv_filename = 'books.csv'\n",
        "with open(csv_filename, 'w', newline='', encoding='utf-8') as file:\n",
        "    writer = csv.writer(file)\n",
        "    writer.writerow(['Title', 'Price'])\n",
        "    writer.writerows(book_data)"
      ],
      "metadata": {
        "colab": {
          "base_uri": "https://localhost:8080/"
        },
        "id": "XO77jjZ3XYgc",
        "outputId": "022e1227-5d22-4ed0-d7e3-70163246b587"
      },
      "execution_count": 6,
      "outputs": [
        {
          "output_type": "stream",
          "name": "stdout",
          "text": [
            "Title: A Light in the Attic, Price: Â£51.77\n",
            "Title: Tipping the Velvet, Price: Â£53.74\n",
            "Title: Soumission, Price: Â£50.10\n",
            "Title: Sharp Objects, Price: Â£47.82\n",
            "Title: Sapiens: A Brief History of Humankind, Price: Â£54.23\n",
            "Title: The Requiem Red, Price: Â£22.65\n",
            "Title: The Dirty Little Secrets of Getting Your Dream Job, Price: Â£33.34\n",
            "Title: The Coming Woman: A Novel Based on the Life of the Infamous Feminist, Victoria Woodhull, Price: Â£17.93\n",
            "Title: The Boys in the Boat: Nine Americans and Their Epic Quest for Gold at the 1936 Berlin Olympics, Price: Â£22.60\n",
            "Title: The Black Maria, Price: Â£52.15\n"
          ]
        }
      ]
    },
    {
      "cell_type": "code",
      "source": [
        "\n",
        "print(f\"\\nData saved to {csv_filename}\")"
      ],
      "metadata": {
        "colab": {
          "base_uri": "https://localhost:8080/"
        },
        "id": "CdVkb5ykXo3F",
        "outputId": "da103a16-6ddf-4fea-cbeb-3b87a1d6e64f"
      },
      "execution_count": 7,
      "outputs": [
        {
          "output_type": "stream",
          "name": "stdout",
          "text": [
            "\n",
            "Data saved to books.csv\n"
          ]
        }
      ]
    },
    {
      "cell_type": "markdown",
      "source": [
        "# Q2"
      ],
      "metadata": {
        "id": "z-JaNyIhX22M"
      }
    },
    {
      "cell_type": "code",
      "source": [
        "import requests\n",
        "import json\n",
        "api_key = 'e62cc84c3386400189d1a068d7c6f1ed'\n",
        "url = ('https://newsapi.org/v2/top-headlines?'\n",
        "       'category=technology&'\n",
        "       'country=in&'\n",
        "       'pageSize=10&'\n",
        "       f'apiKey={api_key}')\n",
        "response = requests.get(url)"
      ],
      "metadata": {
        "id": "4yeNLv2TXo9n"
      },
      "execution_count": 8,
      "outputs": []
    },
    {
      "cell_type": "code",
      "source": [
        "if response.status_code == 200:\n",
        "    data = response.json()\n",
        "    articles = data['articles']\n",
        "\n",
        "    results = []\n",
        "    for article in articles:\n",
        "        info = {\n",
        "            'title': article['title'],\n",
        "            'source': article['source']['name'],\n",
        "            'publishedAt': article['publishedAt']\n",
        "        }\n",
        "        results.append(info)\n",
        "        print(f\"Title: {info['title']}\\nSource: {info['source']}\\nPublished At: {info['publishedAt']}\\n\")\n",
        "    with open('technology_news_india.json', 'w', encoding='utf-8') as f:\n",
        "        json.dump(results, f, indent=4)\n",
        "\n",
        "    print(\"News data saved to 'technology_news_india.json'\")\n",
        "else:\n",
        "    print(f\"Failed to fetch news. Status Code: {response.status_code}\")"
      ],
      "metadata": {
        "colab": {
          "base_uri": "https://localhost:8080/"
        },
        "id": "gRvYR-H3YGSl",
        "outputId": "24a45358-16f1-42b8-c5c2-2b89c3c62672"
      },
      "execution_count": 9,
      "outputs": [
        {
          "output_type": "stream",
          "name": "stdout",
          "text": [
            "News data saved to 'technology_news_india.json'\n"
          ]
        }
      ]
    },
    {
      "cell_type": "markdown",
      "source": [
        "#  Q3"
      ],
      "metadata": {
        "id": "t37ioMThYLrs"
      }
    },
    {
      "cell_type": "code",
      "source": [
        "import requests\n",
        "import pandas as pd\n",
        "import matplotlib.pyplot as plt\n",
        "api_key = '0af8551aa4485e6cc428ce2ded74c849'\n",
        "cities = ['Delhi', 'Mumbai', 'Chennai', 'Kolkata', 'Bangalore']\n",
        "base_url = 'https://api.openweathermap.org/data/2.5/weather'\n",
        "weather_data = []"
      ],
      "metadata": {
        "id": "nsqu7KvuYNEL"
      },
      "execution_count": 10,
      "outputs": []
    },
    {
      "cell_type": "code",
      "source": [
        "for city in cities:\n",
        "    try:\n",
        "        params = {\n",
        "            'q': city,\n",
        "            'appid': api_key,\n",
        "            'units': 'metric'\n",
        "        }\n",
        "        # Corrected URL for OpenWeatherMap current weather API\n",
        "        response = requests.get(base_url, params=params)\n",
        "        response.raise_for_status()\n",
        "\n",
        "        data = response.json()\n",
        "\n",
        "        city_name = data['name']\n",
        "        temp = data['main']['temp']\n",
        "        humidity = data['main']['humidity']\n",
        "        condition = data['weather'][0]['description']\n",
        "\n",
        "        weather_data.append({\n",
        "            'City': city_name,\n",
        "            'Temperature (°C)': temp,\n",
        "            'Humidity (%)': humidity,\n",
        "            'Condition': condition.title()\n",
        "        })\n",
        "\n",
        "    except Exception as e:\n",
        "       print(f\"Error fetching data for {city}: {e}\")\n",
        "\n",
        "# Create DataFrame\n",
        "df = pd.DataFrame(weather_data)\n",
        "print(\"\\nWeather Data:\")\n",
        "print(df)"
      ],
      "metadata": {
        "colab": {
          "base_uri": "https://localhost:8080/"
        },
        "id": "2rh5srJbYNLb",
        "outputId": "8ffa8154-b38e-4903-b5c9-57260c639a7f"
      },
      "execution_count": 13,
      "outputs": [
        {
          "output_type": "stream",
          "name": "stdout",
          "text": [
            "\n",
            "Weather Data:\n",
            "        City  Temperature (°C)  Humidity (%)         Condition\n",
            "0      Delhi             33.05            58     Broken Clouds\n",
            "1     Mumbai             28.99            84   Overcast Clouds\n",
            "2    Chennai             36.66            57   Overcast Clouds\n",
            "3    Kolkata             27.97            73   Overcast Clouds\n",
            "4  Bengaluru             27.88            59  Scattered Clouds\n"
          ]
        }
      ]
    },
    {
      "cell_type": "code",
      "source": [
        "plt.figure(figsize=(10, 6))\n",
        "plt.bar(df['City'], df['Temperature (°C)'], color='skyblue')\n",
        "plt.xlabel('City')\n",
        "plt.ylabel('Temperature (°C)')\n",
        "plt.title('Current Temperature in Indian Cities')\n",
        "plt.grid(axis='y', linestyle='--', alpha=0.7)\n",
        "plt.tight_layout()\n",
        "plt.show()"
      ],
      "metadata": {
        "colab": {
          "base_uri": "https://localhost:8080/",
          "height": 607
        },
        "id": "FlYMyWlnYniH",
        "outputId": "f83f958c-8ef3-4867-d354-c894e56d710e"
      },
      "execution_count": 14,
      "outputs": [
        {
          "output_type": "display_data",
          "data": {
            "text/plain": [
              "<Figure size 1000x600 with 1 Axes>"
            ],
            "image/png": "[encoded data removed]"
          },
          "metadata": {}
        }
      ]
    }
  ]
}